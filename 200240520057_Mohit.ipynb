{
 "cells": [
  {
   "cell_type": "code",
   "execution_count": 4,
   "metadata": {},
   "outputs": [
    {
     "name": "stdout",
     "output_type": "stream",
     "text": [
      "3\n",
      "0\n"
     ]
    }
   ],
   "source": [
    "# max and min\n",
    "import numpy as np\n",
    "a=np.array([[0,1],\n",
    "          [2,3]])\n",
    "print(np.max(a))\n",
    "print(np.min(a))"
   ]
  },
  {
   "cell_type": "code",
   "execution_count": 8,
   "metadata": {},
   "outputs": [
    {
     "name": "stdout",
     "output_type": "stream",
     "text": [
      "[1 3]\n",
      "[0 2]\n"
     ]
    }
   ],
   "source": [
    "#max and min axis\n",
    "import numpy as np\n",
    "a=np.array([[0,1],\n",
    "          [2,3]])\n",
    "print(np.max(a, axis=1))\n",
    "print(np.min(a, axis=1))\n"
   ]
  },
  {
   "cell_type": "code",
   "execution_count": 9,
   "metadata": {},
   "outputs": [
    {
     "name": "stdout",
     "output_type": "stream",
     "text": [
      "11\n"
     ]
    }
   ],
   "source": []
  },
  {
   "cell_type": "code",
   "execution_count": 12,
   "metadata": {},
   "outputs": [
    {
     "name": "stdout",
     "output_type": "stream",
     "text": [
      "diff max and min : [5 5]\n"
     ]
    }
   ],
   "source": [
    "import numpy as np\n",
    "x=np.array([[ 0, 1, 2, 3, 4, 5],\n",
    "            [ 6, 7, 8, 9, 10, 11]])\n",
    "r1 = np.ptp(x, 1)\n",
    "r2 = np.amax(x, 1) - np.amin(x, 1)\n",
    "assert np.allclose(r1, r2)\n",
    "print(\"diff max and min :\",r1)\n"
   ]
  },
  {
   "cell_type": "code",
   "execution_count": 13,
   "metadata": {},
   "outputs": [
    {
     "name": "stdout",
     "output_type": "stream",
     "text": [
      "[0. 1. 2. 2.]\n"
     ]
    }
   ],
   "source": [
    "import numpy as np\n",
    "x = [1., 2., 3., 4.]\n",
    "print(np.floor_divide(x, 1.5))\n"
   ]
  },
  {
   "cell_type": "code",
   "execution_count": 14,
   "metadata": {},
   "outputs": [
    {
     "name": "stdout",
     "output_type": "stream",
     "text": [
      "Median : 5.5\n"
     ]
    }
   ],
   "source": [
    "import numpy as np\n",
    "x=np.array([[ 0, 1, 2, 3, 4, 5],\n",
    "            [ 6, 7, 8, 9, 10, 11]])\n",
    "r1 =  np.median(x)\n",
    "print(\"Median :\",r1)\n"
   ]
  },
  {
   "cell_type": "code",
   "execution_count": 16,
   "metadata": {},
   "outputs": [
    {
     "name": "stdout",
     "output_type": "stream",
     "text": [
      "\n",
      "Weighted average of the said array: 2.6666666666666665\n"
     ]
    }
   ],
   "source": [
    "import numpy as np\n",
    "x = np.array([0,1,2,3,4])\n",
    "\n",
    "weights = np.arange(1, 6)\n",
    "r1 = np.average(x, weights=weights)\n",
    "r2 = (x*(weights/weights.sum())).sum()\n",
    "assert np.allclose(r1, r2)\n",
    "print(\"\\nWeighted average of the said array:\",r1)\n"
   ]
  },
  {
   "cell_type": "code",
   "execution_count": 20,
   "metadata": {},
   "outputs": [
    {
     "name": "stdout",
     "output_type": "stream",
     "text": [
      "mean: 2.5\n",
      "std: 1.707825127659933\n",
      "var: 2.9166666666666665\n"
     ]
    }
   ],
   "source": [
    "import numpy as np\n",
    "x = np.array([0,1,2,3,4,5])\n",
    "print(\"mean:\",np.mean(x))\n",
    "print(\"std:\",np.std(x))\n",
    "print(\"var:\",np.var(x))\n"
   ]
  },
  {
   "cell_type": "code",
   "execution_count": 21,
   "metadata": {},
   "outputs": [
    {
     "name": "stdout",
     "output_type": "stream",
     "text": [
      "Covariance [[ 1. -1.]\n",
      " [-1.  1.]]\n"
     ]
    }
   ],
   "source": [
    "import numpy as np\n",
    "x = np.array([0, 1, 2])\n",
    "y = np.array([2, 1, 0])\n",
    "print(\"Covariance\",np.cov(x, y))"
   ]
  },
  {
   "cell_type": "code",
   "execution_count": 23,
   "metadata": {},
   "outputs": [
    {
     "name": "stdout",
     "output_type": "stream",
     "text": [
      "0     2\n",
      "1     4\n",
      "2     6\n",
      "3     8\n",
      "4    10\n",
      "dtype: int64\n"
     ]
    }
   ],
   "source": [
    "#9. Write a Python program to create and display a one-dimensional array-like object containing#\n",
    "#an array of data using Pandas module.\n",
    "\n",
    "import pandas as pd\n",
    "ds = pd.Series([2, 4, 6, 8, 10])\n",
    "print(ds)\n"
   ]
  },
  {
   "cell_type": "code",
   "execution_count": 24,
   "metadata": {},
   "outputs": [
    {
     "name": "stdout",
     "output_type": "stream",
     "text": [
      "0     2\n",
      "1     4\n",
      "2     6\n",
      "3     8\n",
      "4    10\n",
      "dtype: int64\n",
      "<class 'pandas.core.series.Series'>\n",
      "[2, 4, 6, 8, 10]\n",
      "<class 'list'>\n"
     ]
    }
   ],
   "source": [
    "# 10. Write a Python program to convert a Panda module Series to Python list and it's type.\n",
    "import pandas as pd\n",
    "ds = pd.Series([2, 4, 6, 8, 10])\n",
    "print(ds)\n",
    "print(type(ds))\n",
    "print(ds.tolist())\n",
    "print(type(ds.tolist()))"
   ]
  },
  {
   "cell_type": "code",
   "execution_count": 26,
   "metadata": {},
   "outputs": [
    {
     "name": "stdout",
     "output_type": "stream",
     "text": [
      "Add two Series: 0     3\n",
      "1     7\n",
      "2    11\n",
      "3    15\n",
      "4    19\n",
      "dtype: int64\n",
      "Subtract two Series: 0    1\n",
      "1    1\n",
      "2    1\n",
      "3    1\n",
      "4    1\n",
      "dtype: int64\n",
      "Multiply two Series: 0     2\n",
      "1    12\n",
      "2    30\n",
      "3    56\n",
      "4    90\n",
      "dtype: int64\n",
      "Divide Series1 by Series2: 0    2.000000\n",
      "1    1.333333\n",
      "2    1.200000\n",
      "3    1.142857\n",
      "4    1.111111\n",
      "dtype: float64\n"
     ]
    }
   ],
   "source": [
    "# 11. Write a Python program to add, subtract, multiple and divide two Pandas Series\n",
    "import pandas as pd\n",
    "ds1 = pd.Series([2, 4, 6, 8, 10])\n",
    "ds2 = pd.Series([1, 3, 5, 7, 9])\n",
    "ds = ds1 + ds2\n",
    "print(\"Add two Series:\",ds)\n",
    "ds = ds1 - ds2\n",
    "print(\"Subtract two Series:\",ds)\n",
    "ds = ds1 * ds2\n",
    "\n",
    "print(\"Multiply two Series:\",ds)\n",
    "ds = ds1 / ds2\n",
    "print(\"Divide Series1 by Series2:\",ds)\n"
   ]
  },
  {
   "cell_type": "code",
   "execution_count": 27,
   "metadata": {},
   "outputs": [
    {
     "name": "stdout",
     "output_type": "stream",
     "text": [
      "Equals: 0    False\n",
      "1    False\n",
      "2    False\n",
      "3    False\n",
      "4     True\n",
      "dtype: bool\n",
      "Greater than: 0     True\n",
      "1     True\n",
      "2     True\n",
      "3     True\n",
      "4    False\n",
      "dtype: bool\n",
      "Less than: 0    False\n",
      "1    False\n",
      "2    False\n",
      "3    False\n",
      "4    False\n",
      "dtype: bool\n"
     ]
    }
   ],
   "source": [
    "# 12. Write a Python program to get the largest integer smaller or equal to the division of the\n",
    "# inputs.\n",
    "# Sample Series: [2, 4, 6, 8, 10], [1, 3, 5, 7, 9]\n",
    "import pandas as pd\n",
    "ds1 = pd.Series([2, 4, 6, 8, 10])\n",
    "ds2 = pd.Series([1, 3, 5, 7, 10])\n",
    "\n",
    "print(\"Equals:\",ds1 == ds2)\n",
    "\n",
    "print(\"Greater than:\",ds1 > ds2)\n",
    "\n",
    "print(\"Less than:\",ds1 < ds2)\n"
   ]
  },
  {
   "cell_type": "code",
   "execution_count": 28,
   "metadata": {},
   "outputs": [
    {
     "name": "stdout",
     "output_type": "stream",
     "text": [
      "Converted series: a    100\n",
      "b    200\n",
      "c    300\n",
      "d    400\n",
      "e    800\n",
      "dtype: int64\n"
     ]
    }
   ],
   "source": [
    "# 13. Write a Python program to convert a dictionary to a Pandas series.\n",
    "# Sample Series:\n",
    "# Original dictionary:\n",
    "# {'a': 100, 'b': 200, 'c': 300, 'd': 400, 'e': 800}\n",
    "# Converted series:\n",
    "# a 100\n",
    "# b 200\n",
    "# c 300\n",
    "# d 400\n",
    "# e 800\n",
    "# dtype: int64\n",
    "\n",
    "import pandas as pd\n",
    "d1 = {'a': 100, 'b': 200, 'c':300, 'd':400, 'e':800}\n",
    "new_series = pd.Series(d1)\n",
    "print(\"Converted series:\",new_series)\n"
   ]
  },
  {
   "cell_type": "code",
   "execution_count": 29,
   "metadata": {},
   "outputs": [
    {
     "name": "stdout",
     "output_type": "stream",
     "text": [
      "Converted Pandas series:\n",
      "0    10\n",
      "1    20\n",
      "2    30\n",
      "3    40\n",
      "4    50\n",
      "dtype: int32\n"
     ]
    }
   ],
   "source": [
    "# 14. Write a Python program to convert a NumPy array to a Pandas series.\n",
    "# Sample Series:\n",
    "# NumPy array:\n",
    "# [10 20 30 40 50]\n",
    "# Converted Pandas series:\n",
    "# 0 10\n",
    "# 1 20\n",
    "# 2 30\n",
    "# 3 40\n",
    "# 4 50\n",
    "# dtype: int64\n",
    "import numpy as np\n",
    "import pandas as pd\n",
    "np_array = np.array([10, 20, 30, 40, 50])\n",
    "new_series = pd.Series(np_array)\n",
    "print(\"Converted Pandas series:\")\n",
    "print(new_series)"
   ]
  },
  {
   "cell_type": "code",
   "execution_count": 30,
   "metadata": {},
   "outputs": [
    {
     "name": "stdout",
     "output_type": "stream",
     "text": [
      "Change the said data type to numeric:\n"
     ]
    }
   ],
   "source": [
    "# 15. Write a Python program to change the data type of given a column or a Series.\n",
    "# Sample Series:\n",
    "# Original Data Series:\n",
    "# 0 100\n",
    "# 1 200\n",
    "# 2 python\n",
    "# 3 300.12\n",
    "# 4 400\n",
    "# dtype: object\n",
    "# Change the said data type to numeric:\n",
    "# 0 100.00\n",
    "# 1 200.00\n",
    "\n",
    "import pandas as pd\n",
    "s1 = pd.Series(['100', '200', 'python', '300.12', '400'])\n",
    "print(\"Change the said data type to numeric:\")\n",
    "# s2 = pd.to_numeric(s1, errors='coerce')\n",
    "# print(s2)"
   ]
  },
  {
   "cell_type": "code",
   "execution_count": null,
   "metadata": {},
   "outputs": [],
   "source": []
  }
 ],
 "metadata": {
  "kernelspec": {
   "display_name": "Python 3",
   "language": "python",
   "name": "python3"
  },
  "language_info": {
   "codemirror_mode": {
    "name": "ipython",
    "version": 3
   },
   "file_extension": ".py",
   "mimetype": "text/x-python",
   "name": "python",
   "nbconvert_exporter": "python",
   "pygments_lexer": "ipython3",
   "version": "3.7.6"
  }
 },
 "nbformat": 4,
 "nbformat_minor": 4
}
