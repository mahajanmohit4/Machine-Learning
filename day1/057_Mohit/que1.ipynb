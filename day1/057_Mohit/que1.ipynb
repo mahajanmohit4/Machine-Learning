{
 "cells": [
  {
   "cell_type": "code",
   "execution_count": 1,
   "metadata": {},
   "outputs": [],
   "source": [
    "import pandas as pd\n",
    "import numpy as np\n",
    "df = pd.read_csv('AYUSHHospitals.csv')"
   ]
  },
  {
   "cell_type": "code",
   "execution_count": 16,
   "metadata": {},
   "outputs": [],
   "source": [
    "import matplotlib.pyplot as plt"
   ]
  },
  {
   "cell_type": "code",
   "execution_count": 2,
   "metadata": {},
   "outputs": [
    {
     "data": {
      "text/html": [
       "<div>\n",
       "<style scoped>\n",
       "    .dataframe tbody tr th:only-of-type {\n",
       "        vertical-align: middle;\n",
       "    }\n",
       "\n",
       "    .dataframe tbody tr th {\n",
       "        vertical-align: top;\n",
       "    }\n",
       "\n",
       "    .dataframe thead th {\n",
       "        text-align: right;\n",
       "    }\n",
       "</style>\n",
       "<table border=\"1\" class=\"dataframe\">\n",
       "  <thead>\n",
       "    <tr style=\"text-align: right;\">\n",
       "      <th></th>\n",
       "      <th>Srl no.</th>\n",
       "      <th>State / UT</th>\n",
       "      <th>Number of Hospitals</th>\n",
       "      <th>Unnamed: 3</th>\n",
       "      <th>Unnamed: 4</th>\n",
       "      <th>Unnamed: 5</th>\n",
       "      <th>Number of Beds</th>\n",
       "      <th>Unnamed: 7</th>\n",
       "      <th>Unnamed: 8</th>\n",
       "      <th>Unnamed: 9</th>\n",
       "    </tr>\n",
       "  </thead>\n",
       "  <tbody>\n",
       "    <tr>\n",
       "      <th>0</th>\n",
       "      <td>NaN</td>\n",
       "      <td>NaN</td>\n",
       "      <td>Govt.</td>\n",
       "      <td>Local Body</td>\n",
       "      <td>Others</td>\n",
       "      <td>Total</td>\n",
       "      <td>Govt.</td>\n",
       "      <td>Local Body</td>\n",
       "      <td>Others</td>\n",
       "      <td>Total</td>\n",
       "    </tr>\n",
       "    <tr>\n",
       "      <th>1</th>\n",
       "      <td>-1</td>\n",
       "      <td>-2</td>\n",
       "      <td>-3</td>\n",
       "      <td>-4</td>\n",
       "      <td>-5</td>\n",
       "      <td>-6</td>\n",
       "      <td>-7</td>\n",
       "      <td>-8</td>\n",
       "      <td>-9</td>\n",
       "      <td>-10</td>\n",
       "    </tr>\n",
       "    <tr>\n",
       "      <th>2</th>\n",
       "      <td>1</td>\n",
       "      <td>Andhra Pradesh</td>\n",
       "      <td>8</td>\n",
       "      <td>0</td>\n",
       "      <td>0</td>\n",
       "      <td>8</td>\n",
       "      <td>365</td>\n",
       "      <td>0</td>\n",
       "      <td>0</td>\n",
       "      <td>365</td>\n",
       "    </tr>\n",
       "    <tr>\n",
       "      <th>3</th>\n",
       "      <td>2</td>\n",
       "      <td>Arunachal Pradesh</td>\n",
       "      <td>11</td>\n",
       "      <td>0</td>\n",
       "      <td>1</td>\n",
       "      <td>12</td>\n",
       "      <td>100</td>\n",
       "      <td>0</td>\n",
       "      <td>25</td>\n",
       "      <td>125</td>\n",
       "    </tr>\n",
       "    <tr>\n",
       "      <th>4</th>\n",
       "      <td>3</td>\n",
       "      <td>Assam</td>\n",
       "      <td>4</td>\n",
       "      <td>0</td>\n",
       "      <td>0</td>\n",
       "      <td>4</td>\n",
       "      <td>205</td>\n",
       "      <td>0</td>\n",
       "      <td>0</td>\n",
       "      <td>205</td>\n",
       "    </tr>\n",
       "  </tbody>\n",
       "</table>\n",
       "</div>"
      ],
      "text/plain": [
       "  Srl no.         State / UT Number of Hospitals  Unnamed: 3 Unnamed: 4  \\\n",
       "0     NaN                NaN               Govt.  Local Body     Others   \n",
       "1      -1                 -2                  -3          -4         -5   \n",
       "2       1     Andhra Pradesh                   8           0          0   \n",
       "3       2  Arunachal Pradesh                  11           0          1   \n",
       "4       3              Assam                   4           0          0   \n",
       "\n",
       "  Unnamed: 5 Number of Beds  Unnamed: 7 Unnamed: 8 Unnamed: 9  \n",
       "0      Total          Govt.  Local Body     Others      Total  \n",
       "1         -6             -7          -8         -9        -10  \n",
       "2          8            365           0          0        365  \n",
       "3         12            100           0         25        125  \n",
       "4          4            205           0          0        205  "
      ]
     },
     "execution_count": 2,
     "metadata": {},
     "output_type": "execute_result"
    }
   ],
   "source": [
    "#Data description\n",
    "df.head()"
   ]
  },
  {
   "cell_type": "code",
   "execution_count": 3,
   "metadata": {},
   "outputs": [
    {
     "data": {
      "text/plain": [
       "(43, 10)"
      ]
     },
     "execution_count": 3,
     "metadata": {},
     "output_type": "execute_result"
    }
   ],
   "source": [
    "df.shape"
   ]
  },
  {
   "cell_type": "code",
   "execution_count": 4,
   "metadata": {},
   "outputs": [],
   "source": [
    "df_new = df.dropna() #missing element"
   ]
  },
  {
   "cell_type": "code",
   "execution_count": 5,
   "metadata": {},
   "outputs": [
    {
     "data": {
      "text/plain": [
       "(37, 10)"
      ]
     },
     "execution_count": 5,
     "metadata": {},
     "output_type": "execute_result"
    }
   ],
   "source": [
    "df_new.shape"
   ]
  },
  {
   "cell_type": "code",
   "execution_count": 19,
   "metadata": {},
   "outputs": [],
   "source": [
    "x = df_new.drop(['Unnamed: 9'],axis=1) \n",
    "y = df_new['Unnamed: 9']\n"
   ]
  },
  {
   "cell_type": "code",
   "execution_count": 7,
   "metadata": {},
   "outputs": [],
   "source": [
    "x = pd.get_dummies(x)"
   ]
  },
  {
   "cell_type": "code",
   "execution_count": 8,
   "metadata": {},
   "outputs": [
    {
     "data": {
      "text/plain": [
       "(37, 183)"
      ]
     },
     "execution_count": 8,
     "metadata": {},
     "output_type": "execute_result"
    }
   ],
   "source": [
    "x.shape"
   ]
  },
  {
   "cell_type": "code",
   "execution_count": 9,
   "metadata": {},
   "outputs": [],
   "source": [
    "#Feature Scaling\n",
    "from sklearn.preprocessing import MinMaxScaler\n",
    "scaler = MinMaxScaler()\n",
    "x_scaled = scaler.fit_transform(x)"
   ]
  },
  {
   "cell_type": "code",
   "execution_count": 10,
   "metadata": {},
   "outputs": [],
   "source": [
    "#Linear Model\n",
    "from sklearn.linear_model import LinearRegression\n",
    "reg = LinearRegression().fit(x_scaled,y)"
   ]
  },
  {
   "cell_type": "code",
   "execution_count": 11,
   "metadata": {},
   "outputs": [
    {
     "data": {
      "text/plain": [
       "1.0"
      ]
     },
     "execution_count": 11,
     "metadata": {},
     "output_type": "execute_result"
    }
   ],
   "source": [
    "reg.score(x_scaled,y)"
   ]
  },
  {
   "cell_type": "code",
   "execution_count": 12,
   "metadata": {},
   "outputs": [
    {
     "data": {
      "text/plain": [
       "array([-180.90715738, -153.93616956, -120.69801355, -131.59864671,\n",
       "        -25.61601327, 1076.63077032,  499.9752707 ,  -65.73446245,\n",
       "        982.32223675, -139.78928144,  -27.07784726,  159.52785387,\n",
       "       -452.48811226,  -96.91138688, -260.05176358, -398.89276811,\n",
       "         -8.30657444, -220.34805067,  203.24213937, -124.25680619,\n",
       "       1407.24982472, -171.90629479, -159.03558817,  -85.90620289,\n",
       "       -290.42591535, -290.07167304,  -58.60722608, -149.96214072,\n",
       "        -52.86703902,  -40.28799326,  -72.42706758,   18.01048476,\n",
       "       -251.56669122, -311.89490218,   83.54053331,  276.35090048,\n",
       "       -201.52619985, -312.02823235, -285.78670884, -193.30947026,\n",
       "       -421.47333084,  -61.89025062,   13.21720258, -274.70953418,\n",
       "       -256.78976473,  -60.34438924, -170.8930988 , -307.53357137,\n",
       "         67.99192242,  280.15541116, -201.52619985, -108.8297029 ,\n",
       "       -152.5748458 ,  -15.85881047, 1080.94314021,  572.01263679,\n",
       "        -66.0845763 , -127.57059068,  985.00337602, -169.73707886,\n",
       "        -30.02636887,  139.38881241,  -89.51507246, -244.89690752,\n",
       "        -78.66362206, -402.69049154,   33.29045505, -234.46334231,\n",
       "        227.80199939,  -88.14743939, -115.21494897, 1386.21490542,\n",
       "       -175.62209953, -150.5907875 , -312.02823235, -400.7869752 ,\n",
       "       -251.42021089, -198.91058705, -570.44368307,   33.33309808,\n",
       "       1080.94314021,  572.01263679, -275.57710571,  -88.14743939,\n",
       "       -127.57059068, 1386.21490542,  227.80199939, -108.8297029 ,\n",
       "        280.15541116, -678.27600962, -175.62209953,  296.22767441,\n",
       "       -256.78976473, -180.23085754, -244.89690752, -312.02823235,\n",
       "        -17.26461765,   67.48020602,  280.15541116,  -15.85881047,\n",
       "       -312.02823235, -683.20819179,  490.58358373, -150.5907875 ,\n",
       "       -275.22125058, -402.69049154, -244.89690752, 1081.08173006,\n",
       "        985.00337602, -201.52619985, -256.78976473, -312.02823235,\n",
       "       -188.03537421, -234.46334231, -199.33701739, -201.52619985,\n",
       "       -421.47333084,   33.33309808, -244.89690752, -256.91769384,\n",
       "        571.99131528, -478.69138113,  -88.14743939, 1081.08173006,\n",
       "       -150.5907875 , -127.57059068, 1386.04433328,  228.06851835,\n",
       "       -108.8297029 , -173.05411141, -175.62209953, -610.24516653,\n",
       "        280.15541116,  985.00337602, -180.23085754, -402.69049154,\n",
       "       -312.02823235, -558.24286042, -315.32187897, -710.66500459,\n",
       "       1386.04433328,   33.33309808, -201.52619985,  280.15541116,\n",
       "       -170.8930988 , -175.62209953,  -61.89025062,  228.06851835,\n",
       "       1080.94314021, -193.30947026, -256.78976473, -307.53357137,\n",
       "        571.99131528,  -15.85881047, -150.5907875 , -244.89690752,\n",
       "       -115.21494897, -127.57059068, -108.8297029 , -152.5748458 ,\n",
       "        985.00337602,  -88.14743939, -285.78670884,   13.21720258,\n",
       "       -312.02823235,  -17.43518978,   67.99192242,  280.15541116,\n",
       "        -15.85881047, -312.02823235, -683.20819179, 1386.21490542,\n",
       "       -403.03163581, -307.53357137, -421.47333084, -244.89690752,\n",
       "       -256.78976473, -175.62209953, -201.52619985, -150.5907875 ,\n",
       "       1080.94314021, -274.70953418,  985.00337602])"
      ]
     },
     "execution_count": 12,
     "metadata": {},
     "output_type": "execute_result"
    }
   ],
   "source": [
    "reg.coef_"
   ]
  },
  {
   "cell_type": "code",
   "execution_count": 13,
   "metadata": {},
   "outputs": [
    {
     "data": {
      "text/plain": [
       "2667.1330161664864"
      ]
     },
     "execution_count": 13,
     "metadata": {},
     "output_type": "execute_result"
    }
   ],
   "source": [
    "reg.intercept_"
   ]
  },
  {
   "cell_type": "code",
   "execution_count": 21,
   "metadata": {},
   "outputs": [
    {
     "data": {
      "text/plain": [
       "[<matplotlib.lines.Line2D at 0x23c2e68ee88>,\n",
       " <matplotlib.lines.Line2D at 0x23c2e7cf188>,\n",
       " <matplotlib.lines.Line2D at 0x23c2e7cf508>,\n",
       " <matplotlib.lines.Line2D at 0x23c2e7cfd48>,\n",
       " <matplotlib.lines.Line2D at 0x23c2e7cf6c8>,\n",
       " <matplotlib.lines.Line2D at 0x23c2e7cff88>,\n",
       " <matplotlib.lines.Line2D at 0x23c2e7de888>,\n",
       " <matplotlib.lines.Line2D at 0x23c2e7de048>,\n",
       " <matplotlib.lines.Line2D at 0x23c2e7cf148>,\n",
       " <matplotlib.lines.Line2D at 0x23c2e7cf908>,\n",
       " <matplotlib.lines.Line2D at 0x23c2ebd5b08>,\n",
       " <matplotlib.lines.Line2D at 0x23c2e7decc8>,\n",
       " <matplotlib.lines.Line2D at 0x23c2e7d6a48>,\n",
       " <matplotlib.lines.Line2D at 0x23c2e7d6fc8>,\n",
       " <matplotlib.lines.Line2D at 0x23c2e7d6548>,\n",
       " <matplotlib.lines.Line2D at 0x23c2e7d6808>,\n",
       " <matplotlib.lines.Line2D at 0x23c2e7d6208>,\n",
       " <matplotlib.lines.Line2D at 0x23c2e7d6d08>,\n",
       " <matplotlib.lines.Line2D at 0x23c2e7d6748>,\n",
       " <matplotlib.lines.Line2D at 0x23c2e7f0848>,\n",
       " <matplotlib.lines.Line2D at 0x23c2e7f0548>,\n",
       " <matplotlib.lines.Line2D at 0x23c2e7f0bc8>,\n",
       " <matplotlib.lines.Line2D at 0x23c2e7f02c8>,\n",
       " <matplotlib.lines.Line2D at 0x23c2e7f0388>,\n",
       " <matplotlib.lines.Line2D at 0x23c2e7f0408>,\n",
       " <matplotlib.lines.Line2D at 0x23c2e7f7fc8>,\n",
       " <matplotlib.lines.Line2D at 0x23c2e7f79c8>,\n",
       " <matplotlib.lines.Line2D at 0x23c2e7f7c88>,\n",
       " <matplotlib.lines.Line2D at 0x23c2e7f7648>,\n",
       " <matplotlib.lines.Line2D at 0x23c2e7f7b88>,\n",
       " <matplotlib.lines.Line2D at 0x23c2e7f7f08>,\n",
       " <matplotlib.lines.Line2D at 0x23c2e7d4e08>,\n",
       " <matplotlib.lines.Line2D at 0x23c2e7d4608>,\n",
       " <matplotlib.lines.Line2D at 0x23c2e7d43c8>,\n",
       " <matplotlib.lines.Line2D at 0x23c2e7d4d08>,\n",
       " <matplotlib.lines.Line2D at 0x23c2e7d4648>,\n",
       " <matplotlib.lines.Line2D at 0x23c2e7ec248>,\n",
       " <matplotlib.lines.Line2D at 0x23c2e7ecb08>,\n",
       " <matplotlib.lines.Line2D at 0x23c2e7ec748>,\n",
       " <matplotlib.lines.Line2D at 0x23c2e7ec188>,\n",
       " <matplotlib.lines.Line2D at 0x23c2e7eca88>,\n",
       " <matplotlib.lines.Line2D at 0x23c2e7ec888>,\n",
       " <matplotlib.lines.Line2D at 0x23c2e7ec2c8>,\n",
       " <matplotlib.lines.Line2D at 0x23c2e85c548>,\n",
       " <matplotlib.lines.Line2D at 0x23c2e85c908>,\n",
       " <matplotlib.lines.Line2D at 0x23c2e85cb88>,\n",
       " <matplotlib.lines.Line2D at 0x23c2e85ce48>,\n",
       " <matplotlib.lines.Line2D at 0x23c2e85c508>,\n",
       " <matplotlib.lines.Line2D at 0x23c2e85c1c8>,\n",
       " <matplotlib.lines.Line2D at 0x23c2e8434c8>,\n",
       " <matplotlib.lines.Line2D at 0x23c2e843bc8>,\n",
       " <matplotlib.lines.Line2D at 0x23c2e843c88>,\n",
       " <matplotlib.lines.Line2D at 0x23c2e843608>,\n",
       " <matplotlib.lines.Line2D at 0x23c2e44cf08>,\n",
       " <matplotlib.lines.Line2D at 0x23c2e44cb08>,\n",
       " <matplotlib.lines.Line2D at 0x23c2e44ce48>,\n",
       " <matplotlib.lines.Line2D at 0x23c2e44c648>,\n",
       " <matplotlib.lines.Line2D at 0x23c2e44c508>,\n",
       " <matplotlib.lines.Line2D at 0x23c2e44c188>,\n",
       " <matplotlib.lines.Line2D at 0x23c2e7f4b88>,\n",
       " <matplotlib.lines.Line2D at 0x23c2e7f4988>,\n",
       " <matplotlib.lines.Line2D at 0x23c2e7f46c8>,\n",
       " <matplotlib.lines.Line2D at 0x23c2e7f4848>,\n",
       " <matplotlib.lines.Line2D at 0x23c2e7f4108>,\n",
       " <matplotlib.lines.Line2D at 0x23c2e7f4ec8>,\n",
       " <matplotlib.lines.Line2D at 0x23c19f2dcc8>,\n",
       " <matplotlib.lines.Line2D at 0x23c2e594348>,\n",
       " <matplotlib.lines.Line2D at 0x23c2e5940c8>,\n",
       " <matplotlib.lines.Line2D at 0x23c2e594588>,\n",
       " <matplotlib.lines.Line2D at 0x23c2e5945c8>,\n",
       " <matplotlib.lines.Line2D at 0x23c2e594e48>,\n",
       " <matplotlib.lines.Line2D at 0x23c2e594f88>,\n",
       " <matplotlib.lines.Line2D at 0x23c2e594748>,\n",
       " <matplotlib.lines.Line2D at 0x23c2e7ff888>,\n",
       " <matplotlib.lines.Line2D at 0x23c2e7ff488>,\n",
       " <matplotlib.lines.Line2D at 0x23c2e7ffd48>,\n",
       " <matplotlib.lines.Line2D at 0x23c2e7ff308>,\n",
       " <matplotlib.lines.Line2D at 0x23c2e7fff88>,\n",
       " <matplotlib.lines.Line2D at 0x23c2e23d4c8>,\n",
       " <matplotlib.lines.Line2D at 0x23c2e7e6e88>,\n",
       " <matplotlib.lines.Line2D at 0x23c2e7e6448>,\n",
       " <matplotlib.lines.Line2D at 0x23c2e7e6b08>,\n",
       " <matplotlib.lines.Line2D at 0x23c2e7e6648>,\n",
       " <matplotlib.lines.Line2D at 0x23c2e7e6748>,\n",
       " <matplotlib.lines.Line2D at 0x23c2e44ad08>,\n",
       " <matplotlib.lines.Line2D at 0x23c2e44a888>,\n",
       " <matplotlib.lines.Line2D at 0x23c2e44aa48>,\n",
       " <matplotlib.lines.Line2D at 0x23c2e44a0c8>,\n",
       " <matplotlib.lines.Line2D at 0x23c2e44a9c8>,\n",
       " <matplotlib.lines.Line2D at 0x23c2e44adc8>,\n",
       " <matplotlib.lines.Line2D at 0x23c2e7e3588>,\n",
       " <matplotlib.lines.Line2D at 0x23c2e7e3b08>,\n",
       " <matplotlib.lines.Line2D at 0x23c2e7e3948>,\n",
       " <matplotlib.lines.Line2D at 0x23c2e7e3cc8>,\n",
       " <matplotlib.lines.Line2D at 0x23c2e7e3748>,\n",
       " <matplotlib.lines.Line2D at 0x23c2e7e31c8>,\n",
       " <matplotlib.lines.Line2D at 0x23c2e7fcfc8>,\n",
       " <matplotlib.lines.Line2D at 0x23c2e7fc288>,\n",
       " <matplotlib.lines.Line2D at 0x23c2e7fc188>,\n",
       " <matplotlib.lines.Line2D at 0x23c2e7fc608>,\n",
       " <matplotlib.lines.Line2D at 0x23c2e7fc9c8>,\n",
       " <matplotlib.lines.Line2D at 0x23c2e7fcd88>,\n",
       " <matplotlib.lines.Line2D at 0x23c2e7a6e08>,\n",
       " <matplotlib.lines.Line2D at 0x23c2e7a6b88>,\n",
       " <matplotlib.lines.Line2D at 0x23c2e7a6648>,\n",
       " <matplotlib.lines.Line2D at 0x23c2e7c1908>,\n",
       " <matplotlib.lines.Line2D at 0x23c2e7c1608>,\n",
       " <matplotlib.lines.Line2D at 0x23c2e7c16c8>,\n",
       " <matplotlib.lines.Line2D at 0x23c2e7c1d48>,\n",
       " <matplotlib.lines.Line2D at 0x23c2e7c1508>,\n",
       " <matplotlib.lines.Line2D at 0x23c2e7c1488>,\n",
       " <matplotlib.lines.Line2D at 0x23c2e807808>,\n",
       " <matplotlib.lines.Line2D at 0x23c2e8070c8>,\n",
       " <matplotlib.lines.Line2D at 0x23c2e7c47c8>,\n",
       " <matplotlib.lines.Line2D at 0x23c2e7c4ac8>,\n",
       " <matplotlib.lines.Line2D at 0x23c2e7c4f08>,\n",
       " <matplotlib.lines.Line2D at 0x23c2e7c4d08>,\n",
       " <matplotlib.lines.Line2D at 0x23c2e7c4648>,\n",
       " <matplotlib.lines.Line2D at 0x23c2e7c4188>,\n",
       " <matplotlib.lines.Line2D at 0x23c2e803dc8>,\n",
       " <matplotlib.lines.Line2D at 0x23c2e803248>,\n",
       " <matplotlib.lines.Line2D at 0x23c2e803988>,\n",
       " <matplotlib.lines.Line2D at 0x23c2e803588>,\n",
       " <matplotlib.lines.Line2D at 0x23c2e803d48>,\n",
       " <matplotlib.lines.Line2D at 0x23c2e893148>,\n",
       " <matplotlib.lines.Line2D at 0x23c2e8934c8>,\n",
       " <matplotlib.lines.Line2D at 0x23c2e893788>,\n",
       " <matplotlib.lines.Line2D at 0x23c2e893288>,\n",
       " <matplotlib.lines.Line2D at 0x23c2e80f888>,\n",
       " <matplotlib.lines.Line2D at 0x23c2e80f788>,\n",
       " <matplotlib.lines.Line2D at 0x23c2e47ff08>,\n",
       " <matplotlib.lines.Line2D at 0x23c2e47f7c8>,\n",
       " <matplotlib.lines.Line2D at 0x23c2e47f548>,\n",
       " <matplotlib.lines.Line2D at 0x23c2e47f088>,\n",
       " <matplotlib.lines.Line2D at 0x23c2e47fa88>,\n",
       " <matplotlib.lines.Line2D at 0x23c2e47f0c8>,\n",
       " <matplotlib.lines.Line2D at 0x23c2ce3e088>,\n",
       " <matplotlib.lines.Line2D at 0x23c2cf3fac8>,\n",
       " <matplotlib.lines.Line2D at 0x23c2cf48408>,\n",
       " <matplotlib.lines.Line2D at 0x23c2cf48048>,\n",
       " <matplotlib.lines.Line2D at 0x23c2e440208>,\n",
       " <matplotlib.lines.Line2D at 0x23c2e440bc8>,\n",
       " <matplotlib.lines.Line2D at 0x23c2e440f08>,\n",
       " <matplotlib.lines.Line2D at 0x23c2e440b08>,\n",
       " <matplotlib.lines.Line2D at 0x23c2e440048>,\n",
       " <matplotlib.lines.Line2D at 0x23c2ce3a9c8>,\n",
       " <matplotlib.lines.Line2D at 0x23c2df71d88>,\n",
       " <matplotlib.lines.Line2D at 0x23c2e838548>,\n",
       " <matplotlib.lines.Line2D at 0x23c2e838e88>,\n",
       " <matplotlib.lines.Line2D at 0x23c2e838048>,\n",
       " <matplotlib.lines.Line2D at 0x23c2e35ae48>,\n",
       " <matplotlib.lines.Line2D at 0x23c2e35a6c8>,\n",
       " <matplotlib.lines.Line2D at 0x23c2e462108>,\n",
       " <matplotlib.lines.Line2D at 0x23c2e462288>,\n",
       " <matplotlib.lines.Line2D at 0x23c2e4626c8>,\n",
       " <matplotlib.lines.Line2D at 0x23c2e462ec8>,\n",
       " <matplotlib.lines.Line2D at 0x23c2e462b48>,\n",
       " <matplotlib.lines.Line2D at 0x23c2e462a48>,\n",
       " <matplotlib.lines.Line2D at 0x23c2e690448>,\n",
       " <matplotlib.lines.Line2D at 0x23c2e690708>,\n",
       " <matplotlib.lines.Line2D at 0x23c2e690b48>,\n",
       " <matplotlib.lines.Line2D at 0x23c2e690dc8>,\n",
       " <matplotlib.lines.Line2D at 0x23c2e690188>,\n",
       " <matplotlib.lines.Line2D at 0x23c2e690648>,\n",
       " <matplotlib.lines.Line2D at 0x23c2e517508>,\n",
       " <matplotlib.lines.Line2D at 0x23c2e517948>,\n",
       " <matplotlib.lines.Line2D at 0x23c2e517d88>,\n",
       " <matplotlib.lines.Line2D at 0x23c2e517188>,\n",
       " <matplotlib.lines.Line2D at 0x23c2e517588>,\n",
       " <matplotlib.lines.Line2D at 0x23c2e517748>,\n",
       " <matplotlib.lines.Line2D at 0x23c2e685e88>,\n",
       " <matplotlib.lines.Line2D at 0x23c2e685c08>,\n",
       " <matplotlib.lines.Line2D at 0x23c2e685988>,\n",
       " <matplotlib.lines.Line2D at 0x23c2e6857c8>,\n",
       " <matplotlib.lines.Line2D at 0x23c2e685388>,\n",
       " <matplotlib.lines.Line2D at 0x23c2e32c388>,\n",
       " <matplotlib.lines.Line2D at 0x23c2e42ed48>,\n",
       " <matplotlib.lines.Line2D at 0x23c2e32db08>,\n",
       " <matplotlib.lines.Line2D at 0x23c2cbc6108>,\n",
       " <matplotlib.lines.Line2D at 0x23c1980b308>,\n",
       " <matplotlib.lines.Line2D at 0x23c1845dcc8>,\n",
       " <matplotlib.lines.Line2D at 0x23c1845d288>,\n",
       " <matplotlib.lines.Line2D at 0x23c1845bc08>]"
      ]
     },
     "execution_count": 21,
     "metadata": {},
     "output_type": "execute_result"
    },
    {
     "data": {
      "image/png": "[encoded data removed]",
      "text/plain": [
       "<Figure size 432x288 with 1 Axes>"
      ]
     },
     "metadata": {
      "needs_background": "light"
     },
     "output_type": "display_data"
    }
   ],
   "source": [
    "plt.plot(x_scaled, reg.predict(x_scaled))\n"
   ]
  },
  {
   "cell_type": "code",
   "execution_count": 15,
   "metadata": {},
   "outputs": [
    {
     "data": {
      "text/plain": [
       "LinearRegression(copy_X=True, fit_intercept=True, n_jobs=None, normalize=False)"
      ]
     },
     "execution_count": 15,
     "metadata": {},
     "output_type": "execute_result"
    }
   ],
   "source": [
    "#Polynomial Regression\n",
    "from sklearn.preprocessing import PolynomialFeatures  \n",
    "poly_features = PolynomialFeatures(degree = 3)  \n",
    "X_poly = poly_features.fit_transform(x_scaled)\n",
    "poly_model = LinearRegression()  \n",
    "poly_model.fit(x_scaled, y)"
   ]
  },
  {
   "cell_type": "code",
   "execution_count": null,
   "metadata": {},
   "outputs": [],
   "source": []
  }
 ],
 "metadata": {
  "kernelspec": {
   "display_name": "Python 3",
   "language": "python",
   "name": "python3"
  },
  "language_info": {
   "codemirror_mode": {
    "name": "ipython",
    "version": 3
   },
   "file_extension": ".py",
   "mimetype": "text/x-python",
   "name": "python",
   "nbconvert_exporter": "python",
   "pygments_lexer": "ipython3",
   "version": "3.7.6"
  }
 },
 "nbformat": 4,
 "nbformat_minor": 4
}
