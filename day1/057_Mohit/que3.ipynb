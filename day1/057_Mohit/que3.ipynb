{
 "cells": [
  {
   "cell_type": "code",
   "execution_count": 50,
   "metadata": {},
   "outputs": [
    {
     "name": "stdout",
     "output_type": "stream",
     "text": [
      "Mean age : 46.44444444444444\n",
      "Mean %fat : 28.783333333333335\n"
     ]
    }
   ],
   "source": [
    "#que3{a}\n",
    "import numpy\n",
    "\n",
    "# age = [23,23,22,25,25,26,27,27,13,74]\n",
    "# fat = [12.1,34.5,3.3,64.4,5.2,6,4,3.5,6.3,6.7,4,6]\n",
    "\n",
    "age = [23,23,27,27,39,41,47,49,50,52,54,54,56,57,58,58,60,61] \n",
    "fat = [9.5,26.5,7.8,17.8,31.4,25.9,27.4,27.2,31.2,34.6,42.5,28.8,33.4,30.2,34.1,32.9,41.2,35.7]\n",
    "\n",
    "x = numpy.mean(age)\n",
    "\n",
    "print(\"Mean age :\",x)\n",
    "y=numpy.mean(fat)\n",
    "print(\"Mean %fat :\",y)"
   ]
  },
  {
   "cell_type": "code",
   "execution_count": 51,
   "metadata": {},
   "outputs": [
    {
     "name": "stdout",
     "output_type": "stream",
     "text": [
      "Medien age : 51.0\n",
      "Meadien of % fat 30.7\n"
     ]
    }
   ],
   "source": [
    "x = numpy.median(age)\n",
    "print(\"Medien age :\",x)\n",
    "y = numpy.median(fat)\n",
    "print(\"Meadien of % fat\",y)"
   ]
  },
  {
   "cell_type": "code",
   "execution_count": 52,
   "metadata": {},
   "outputs": [
    {
     "name": "stdout",
     "output_type": "stream",
     "text": [
      "Standert deviation of age : 12.846193652519204\n",
      "Standert deviation of %fat : 8.993655170915401\n"
     ]
    }
   ],
   "source": [
    "s1 = numpy.std(age)\n",
    "print(\"Standert deviation of age :\",s1)\n",
    "s2 = numpy.std(fat)\n",
    "print(\"Standert deviation of %fat :\",s2)"
   ]
  },
  {
   "cell_type": "code",
   "execution_count": 61,
   "metadata": {},
   "outputs": [],
   "source": [
    "np.random.seed(10)\n",
    "collectn_1 =[23,23,27,27,39,41,47,49,50,52,54,54,56,57,58,58,60,61] \n",
    "collectn_2 = [9.5,26.5,7.8,17.8,31.4,25.9,27.4,27.2,31.2,34.6,42.5,28.8,33.4,30.2,34.1,32.9,41.2,35.7]\n",
    "\n",
    "\n",
    "## combine these different collections into a list    \n",
    "data_to_plot = [collectn_1, collectn_2]"
   ]
  },
  {
   "cell_type": "code",
   "execution_count": 62,
   "metadata": {},
   "outputs": [
    {
     "data": {
      "image/png": "[encoded data removed]",
      "text/plain": [
       "<Figure size 648x432 with 1 Axes>"
      ]
     },
     "metadata": {
      "needs_background": "light"
     },
     "output_type": "display_data"
    }
   ],
   "source": [
    "# Create a figure instance\n",
    "fig = plt.figure(1, figsize=(9, 6))\n",
    "\n",
    "# Create an axes instance\n",
    "ax = fig.add_subplot(111)\n",
    "\n",
    "# Create the boxplot\n",
    "bp = ax.boxplot(data_to_plot)\n",
    "\n",
    "# Save the figure\n",
    "fig.savefig('fig1.png', bbox_inches='tight')"
   ]
  },
  {
   "cell_type": "code",
   "execution_count": null,
   "metadata": {},
   "outputs": [],
   "source": []
  },
  {
   "cell_type": "code",
   "execution_count": null,
   "metadata": {},
   "outputs": [],
   "source": []
  },
  {
   "cell_type": "code",
   "execution_count": null,
   "metadata": {},
   "outputs": [],
   "source": []
  },
  {
   "cell_type": "code",
   "execution_count": 55,
   "metadata": {},
   "outputs": [
    {
     "name": "stdout",
     "output_type": "stream",
     "text": [
      "mean : 30.142857142857142\n"
     ]
    }
   ],
   "source": [
    "# que3(b)\n",
    "\n",
    "import numpy\n",
    "\n",
    "a = [13,15,16,16,19,20,20,21,22,22,25,25,25,25,30,33,33,35,35,35,35,35,36,40,45,46,52,70]\n",
    "x = numpy.mean(a)\n",
    "\n",
    "print(\"mean :\",x)"
   ]
  },
  {
   "cell_type": "code",
   "execution_count": 56,
   "metadata": {},
   "outputs": [
    {
     "name": "stdout",
     "output_type": "stream",
     "text": [
      "median : 27.5\n"
     ]
    }
   ],
   "source": [
    "x = numpy.median(a)\n",
    "\n",
    "print(\"median :\",x)"
   ]
  },
  {
   "cell_type": "code",
   "execution_count": 57,
   "metadata": {},
   "outputs": [
    {
     "name": "stdout",
     "output_type": "stream",
     "text": [
      "mode : ModeResult(mode=array([35]), count=array([5]))\n"
     ]
    }
   ],
   "source": [
    "from scipy import stats\n",
    "x = stats.mode(a)\n",
    "\n",
    "print(\"mode :\",x)"
   ]
  },
  {
   "cell_type": "code",
   "execution_count": 58,
   "metadata": {},
   "outputs": [
    {
     "name": "stdout",
     "output_type": "stream",
     "text": [
      "mid range is :  41.5\n"
     ]
    }
   ],
   "source": [
    "# What is the midrange of the data?\n",
    "\n",
    "midrange= (max(a)+min(a))/2\n",
    "print(\"mid range is : \",midrange)\n"
   ]
  },
  {
   "cell_type": "code",
   "execution_count": null,
   "metadata": {},
   "outputs": [],
   "source": []
  },
  {
   "cell_type": "code",
   "execution_count": 59,
   "metadata": {},
   "outputs": [],
   "source": [
    "# Show the boxplot of the data\n",
    "np.random.seed(10)\n",
    "collectn_1 = [13,15,16,16,19,20,20,21,22,22,25,25,25,25,30,33,33,35,35,35,35,35,36,40,45,46,52,70]\n",
    "\n",
    "## combine these different collections into a list    \n",
    "data_to_plot = [collectn_1]"
   ]
  },
  {
   "cell_type": "code",
   "execution_count": 60,
   "metadata": {},
   "outputs": [
    {
     "data": {
      "image/png": "[encoded data removed]",
      "text/plain": [
       "<Figure size 648x432 with 1 Axes>"
      ]
     },
     "metadata": {
      "needs_background": "light"
     },
     "output_type": "display_data"
    }
   ],
   "source": [
    "# Create a figure instance\n",
    "fig = plt.figure(1, figsize=(9, 6))\n",
    "\n",
    "# Create an axes instance\n",
    "ax = fig.add_subplot(111)\n",
    "\n",
    "# Create the boxplot\n",
    "bp = ax.boxplot(data_to_plot)\n",
    "\n",
    "# Save the figure\n",
    "fig.savefig('fig1.png', bbox_inches='tight')"
   ]
  },
  {
   "cell_type": "code",
   "execution_count": null,
   "metadata": {},
   "outputs": [],
   "source": []
  }
 ],
 "metadata": {
  "kernelspec": {
   "display_name": "Python 3",
   "language": "python",
   "name": "python3"
  },
  "language_info": {
   "codemirror_mode": {
    "name": "ipython",
    "version": 3
   },
   "file_extension": ".py",
   "mimetype": "text/x-python",
   "name": "python",
   "nbconvert_exporter": "python",
   "pygments_lexer": "ipython3",
   "version": "3.7.6"
  }
 },
 "nbformat": 4,
 "nbformat_minor": 4
}
